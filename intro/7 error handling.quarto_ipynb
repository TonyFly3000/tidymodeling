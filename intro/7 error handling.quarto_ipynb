{
  "cells": [
    {
      "cell_type": "markdown",
      "metadata": {},
      "source": [
        "---\n",
        "title: \"Error handling\"\n",
        "author: \"Tony Duan\"\n",
        "\n",
        "execute:\n",
        "  warning: false\n",
        "  error: false\n",
        "format:\n",
        "  html:\n",
        "    toc: true\n",
        "    toc-location: right\n",
        "    code-fold: show\n",
        "    code-tools: true\n",
        "    number-sections: true\n",
        "    code-block-bg: true\n",
        "    code-block-border-left: \"#31BAE9\"\n",
        "---\n",
        "\n",
        "\n",
        "# if can not location python version\n",
        "\n",
        "error: can not find Python specified in RETICULATE_PYTHON (/Library/Frameworks/Python.framework/Versions/3.12/bin/python3)\n",
        "\n",
        "## find current python version \n",
        "\n",
        "```{bash}\n",
        "which -a python python3\n",
        "```\n",
        "\n",
        "## change python version in `.Renviron` under home folder\n",
        "\n",
        "go to home folder by Command-Shift-H\n",
        "\n",
        "```{bash}\n",
        "RETICULATE_PYTHON=\"/Library/Frameworks/Python.framework/Versions/3.13/bin/python3\"\n",
        "```\n"
      ],
      "id": "620269a3"
    }
  ],
  "metadata": {
    "kernelspec": {
      "name": "python3",
      "language": "python",
      "display_name": "Python 3 (ipykernel)",
      "path": "/Library/Frameworks/Python.framework/Versions/3.13/share/jupyter/kernels/python3"
    }
  },
  "nbformat": 4,
  "nbformat_minor": 5
}